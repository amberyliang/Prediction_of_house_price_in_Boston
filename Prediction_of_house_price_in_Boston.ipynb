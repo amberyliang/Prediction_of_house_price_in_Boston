{
  "nbformat": 4,
  "nbformat_minor": 0,
  "metadata": {
    "colab": {
      "provenance": [],
      "authorship_tag": "ABX9TyPLcZP3Quiuj/HW6dgDfhd2",
      "include_colab_link": true
    },
    "kernelspec": {
      "name": "python3",
      "display_name": "Python 3"
    },
    "language_info": {
      "name": "python"
    }
  },
  "cells": [
    {
      "cell_type": "markdown",
      "metadata": {
        "id": "view-in-github",
        "colab_type": "text"
      },
      "source": [
        "<a href=\"https://colab.research.google.com/github/amberyliang/Prediction_of_house_price_in_Boston/blob/main/Prediction_of_house_price_in_Boston.ipynb\" target=\"_parent\"><img src=\"https://colab.research.google.com/assets/colab-badge.svg\" alt=\"Open In Colab\"/></a>"
      ]
    },
    {
      "cell_type": "markdown",
      "source": [
        "載入資料集"
      ],
      "metadata": {
        "id": "W5L-R_wn7Elq"
      }
    },
    {
      "cell_type": "code",
      "execution_count": 11,
      "metadata": {
        "id": "oHjDo6LMn4Ef"
      },
      "outputs": [],
      "source": [
        "%matplotlib inline\n",
        "import numpy as np\n",
        "import pandas as pd\n",
        "import matplotlib.pyplot as plt"
      ]
    },
    {
      "cell_type": "code",
      "source": [
        "from sklearn.linear_model import LinearRegression\n",
        "from sklearn.model_selection import train_test_split"
      ],
      "metadata": {
        "id": "brEqGk8vrrHm"
      },
      "execution_count": 12,
      "outputs": []
    },
    {
      "cell_type": "code",
      "source": [
        "import pandas as pd\n",
        "import numpy as np\n",
        "\n",
        "data_url = \"http://lib.stat.cmu.edu/datasets/boston\"\n",
        "raw_df = pd.read_csv(data_url, sep=\"\\s+\", skiprows=22, header=None)\n",
        "data = np.hstack([raw_df.values[::2, :], raw_df.values[1::2, :2]])\n",
        "target = raw_df.values[1::2, 2]\n",
        "print(data.shape)\n",
        "print(target.shape)"
      ],
      "metadata": {
        "id": "GuliVrAkxcfV",
        "colab": {
          "base_uri": "https://localhost:8080/"
        },
        "outputId": "08f18193-3efa-4c0c-9c15-a1c6e82ae2b6"
      },
      "execution_count": 13,
      "outputs": [
        {
          "output_type": "stream",
          "name": "stdout",
          "text": [
            "(506, 13)\n",
            "(506,)\n"
          ]
        }
      ]
    },
    {
      "cell_type": "markdown",
      "source": [
        "檢查缺失值的總數"
      ],
      "metadata": {
        "id": "fErheeY65AUO"
      }
    },
    {
      "cell_type": "code",
      "source": [
        "np.isnan(data).sum()"
      ],
      "metadata": {
        "colab": {
          "base_uri": "https://localhost:8080/"
        },
        "id": "HwLx7Elr1ivb",
        "outputId": "361a2134-c750-42df-a5b0-25a1c8408e53"
      },
      "execution_count": 14,
      "outputs": [
        {
          "output_type": "execute_result",
          "data": {
            "text/plain": [
              "0"
            ]
          },
          "metadata": {},
          "execution_count": 14
        }
      ]
    },
    {
      "cell_type": "markdown",
      "source": [
        "# 線性回歸"
      ],
      "metadata": {
        "id": "NerfYufx8shq"
      }
    },
    {
      "cell_type": "code",
      "source": [
        "from sklearn.linear_model import LinearRegression, Lasso # 引入Lasso\n",
        "from sklearn.linear_model import LinearRegression # 引入LinearRegression\n",
        "from sklearn.model_selection import train_test_split # 引入train_test_split\n",
        "import matplotlib.pyplot as plt # 引入pyplot\n",
        "from sklearn.preprocessing import StandardScaler\n",
        "\n",
        "x = data # 13個特徵的數據\n",
        "y = target # 房價數據\n",
        "\n",
        "x_train, x_test, y_train, y_test = train_test_split(x, y, test_size = 0.3, random_state = 83) # 將數據分成73比\n",
        "\n",
        "std_tool = StandardScaler()\n",
        "x_train = std_tool.fit_transform(x_train) # 將資料標準化\n",
        "\n",
        "lnregr = LinearRegression()\n",
        "lnregr.fit(x_train, y_train) # 將資料拿去訓練\n",
        "\n",
        "x_test = std_tool.transform(x_test)\n",
        "y_predict = lnregr.predict(x_test) # 北test的資料用訓練出來的模型去預測\n",
        "\n",
        "# define and fit the lasso object\n",
        "lasso = Lasso()\n",
        "lasso.fit(x_train, y_train)\n",
        "\n",
        "plt.xlabel(\"actual price\") # x軸的標題\n",
        "plt.ylabel(\"predict pcice\") # y軸的標題\n",
        "plt.plot([0,50], [0,50]) # 劃一條基準線\n",
        "plt.scatter(y_test, y_predict) # 比對預測跟實際的差別\n",
        "plt.show() # 察看結果\n",
        "score=lnregr.score(x_train, y_train) #訓練模型的正確率\n",
        "r_squared = lasso.score(x_test, y_test)\n",
        "print(\"模型準確率:\", score)\n",
        "print(\"r-squared:\",r_squared)\n",
        "print(\"Regression 預測結果:\", y_predict)"
      ],
      "metadata": {
        "colab": {
          "base_uri": "https://localhost:8080/",
          "height": 949
        },
        "id": "5-3yLT_g5HFX",
        "outputId": "dc3defd7-c80e-4409-aece-ba9aaa124e80"
      },
      "execution_count": 15,
      "outputs": [
        {
          "output_type": "display_data",
          "data": {
            "text/plain": [
              "<Figure size 640x480 with 1 Axes>"
            ],
            "image/png": "[encoded data removed]"
          },
          "metadata": {}
        },
        {
          "output_type": "stream",
          "name": "stdout",
          "text": [
            "模型準確率: 0.7468604695691605\n",
            "r-squared: 0.6798574554216328\n",
            "Regression 預測結果: [14.53207535 41.89890472 23.83977253 25.09608521 30.41676102 36.60574425\n",
            " 16.04546029 20.21284365 29.6029813  30.30096374 25.73408967 38.65501165\n",
            " 18.06271073 30.1869617  27.19973639 13.4042616  38.00508097 35.18129355\n",
            " 19.27337337 21.00733512 23.64283233 18.42631478 17.01559289 16.4099064\n",
            " 27.38091554 21.87060044 24.53488956 19.91874196 17.15663041 28.83418186\n",
            " 23.25386975 20.07540481 17.51039425 30.71101208 28.61705439 25.2573605\n",
            " 16.23813248 11.26603976 13.70138445 15.2833674  17.23453951 13.87297551\n",
            " 21.62117443 16.15477674 20.43834261 16.82360082 33.17694183 23.98037175\n",
            " 25.41915859 31.04315211  9.85215592 -4.89375668 27.49811631 23.07549938\n",
            " 22.9655863  21.04837609 41.11898137 39.20687149  6.63175877 20.37327554\n",
            " 16.1216476  33.96471044 30.63093829 35.83352895 15.12120807 24.94366477\n",
            "  7.67530771 37.12777745 16.59649226 27.12624487 18.0961071  25.99954805\n",
            " 21.70274984 18.66036345 31.7800418  27.10326053 19.38850394 20.38505741\n",
            " 14.07507495 21.13447442 30.45903403 35.99555217 21.50784466 22.68545866\n",
            " 29.77014145 33.43023253 22.43998903 19.72599628 28.30859888 11.62790513\n",
            " 32.62731292 24.32514538 38.0049813  12.90607833 16.98785612 18.77895707\n",
            " 19.98835248 29.87387682 20.30307091 31.70593357 31.13657068 20.25794071\n",
            "  8.70775975 35.35141509 22.42383198 40.49621009 28.68361235  9.92932753\n",
            " 34.23804666  3.36046273 13.34244732 17.18448082 20.20686769 18.83714967\n",
            " 30.40149408 16.28254779 24.84589118 34.31304648 19.66621413 29.15390407\n",
            " 22.78230018 30.30988013 20.963016   28.52438148 36.6881215  11.62000574\n",
            " 24.24067729  8.28118135 19.62265351 39.24961188 23.26072015 24.65854544\n",
            " 18.12538264 16.87110469 31.34562937 28.08894315 19.7055668  22.49603037\n",
            " 23.99144308 23.2720199  27.54041809 27.55602451 21.1282685  25.32379387\n",
            " 14.49259065 20.99166955 15.10671094 20.75188382 22.38787097 18.98445551\n",
            " 27.64219776 24.42765136]\n"
          ]
        }
      ]
    },
    {
      "cell_type": "markdown",
      "source": [
        "# **正則化方法**\n",
        "L1 正則項（ Lasso ）"
      ],
      "metadata": {
        "id": "Sg5wtU4V7XLA"
      }
    },
    {
      "cell_type": "code",
      "source": [
        "from sklearn.linear_model import Lasso"
      ],
      "metadata": {
        "id": "qBrMhW2D7acS"
      },
      "execution_count": 16,
      "outputs": []
    },
    {
      "cell_type": "code",
      "source": [
        "lr = Lasso(alpha = 0.001)"
      ],
      "metadata": {
        "id": "SnB-PN2U7tXu"
      },
      "execution_count": 17,
      "outputs": []
    },
    {
      "cell_type": "code",
      "source": [
        "lr.fit(x_train, y_train)"
      ],
      "metadata": {
        "id": "M8MXlB4n8fzd",
        "colab": {
          "base_uri": "https://localhost:8080/",
          "height": 80
        },
        "outputId": "494cd13b-d709-470c-8834-7a14f7d568df"
      },
      "execution_count": 18,
      "outputs": [
        {
          "output_type": "execute_result",
          "data": {
            "text/plain": [
              "Lasso(alpha=0.001)"
            ],
            "text/html": [
              "<style>#sk-container-id-1 {\n",
              "  /* Definition of color scheme common for light and dark mode */\n",
              "  --sklearn-color-text: black;\n",
              "  --sklearn-color-line: gray;\n",
              "  /* Definition of color scheme for unfitted estimators */\n",
              "  --sklearn-color-unfitted-level-0: #fff5e6;\n",
              "  --sklearn-color-unfitted-level-1: #f6e4d2;\n",
              "  --sklearn-color-unfitted-level-2: #ffe0b3;\n",
              "  --sklearn-color-unfitted-level-3: chocolate;\n",
              "  /* Definition of color scheme for fitted estimators */\n",
              "  --sklearn-color-fitted-level-0: #f0f8ff;\n",
              "  --sklearn-color-fitted-level-1: #d4ebff;\n",
              "  --sklearn-color-fitted-level-2: #b3dbfd;\n",
              "  --sklearn-color-fitted-level-3: cornflowerblue;\n",
              "\n",
              "  /* Specific color for light theme */\n",
              "  --sklearn-color-text-on-default-background: var(--sg-text-color, var(--theme-code-foreground, var(--jp-content-font-color1, black)));\n",
              "  --sklearn-color-background: var(--sg-background-color, var(--theme-background, var(--jp-layout-color0, white)));\n",
              "  --sklearn-color-border-box: var(--sg-text-color, var(--theme-code-foreground, var(--jp-content-font-color1, black)));\n",
              "  --sklearn-color-icon: #696969;\n",
              "\n",
              "  @media (prefers-color-scheme: dark) {\n",
              "    /* Redefinition of color scheme for dark theme */\n",
              "    --sklearn-color-text-on-default-background: var(--sg-text-color, var(--theme-code-foreground, var(--jp-content-font-color1, white)));\n",
              "    --sklearn-color-background: var(--sg-background-color, var(--theme-background, var(--jp-layout-color0, #111)));\n",
              "    --sklearn-color-border-box: var(--sg-text-color, var(--theme-code-foreground, var(--jp-content-font-color1, white)));\n",
              "    --sklearn-color-icon: #878787;\n",
              "  }\n",
              "}\n",
              "\n",
              "#sk-container-id-1 {\n",
              "  color: var(--sklearn-color-text);\n",
              "}\n",
              "\n",
              "#sk-container-id-1 pre {\n",
              "  padding: 0;\n",
              "}\n",
              "\n",
              "#sk-container-id-1 input.sk-hidden--visually {\n",
              "  border: 0;\n",
              "  clip: rect(1px 1px 1px 1px);\n",
              "  clip: rect(1px, 1px, 1px, 1px);\n",
              "  height: 1px;\n",
              "  margin: -1px;\n",
              "  overflow: hidden;\n",
              "  padding: 0;\n",
              "  position: absolute;\n",
              "  width: 1px;\n",
              "}\n",
              "\n",
              "#sk-container-id-1 div.sk-dashed-wrapped {\n",
              "  border: 1px dashed var(--sklearn-color-line);\n",
              "  margin: 0 0.4em 0.5em 0.4em;\n",
              "  box-sizing: border-box;\n",
              "  padding-bottom: 0.4em;\n",
              "  background-color: var(--sklearn-color-background);\n",
              "}\n",
              "\n",
              "#sk-container-id-1 div.sk-container {\n",
              "  /* jupyter's `normalize.less` sets `[hidden] { display: none; }`\n",
              "     but bootstrap.min.css set `[hidden] { display: none !important; }`\n",
              "     so we also need the `!important` here to be able to override the\n",
              "     default hidden behavior on the sphinx rendered scikit-learn.org.\n",
              "     See: https://github.com/scikit-learn/scikit-learn/issues/21755 */\n",
              "  display: inline-block !important;\n",
              "  position: relative;\n",
              "}\n",
              "\n",
              "#sk-container-id-1 div.sk-text-repr-fallback {\n",
              "  display: none;\n",
              "}\n",
              "\n",
              "div.sk-parallel-item,\n",
              "div.sk-serial,\n",
              "div.sk-item {\n",
              "  /* draw centered vertical line to link estimators */\n",
              "  background-image: linear-gradient(var(--sklearn-color-text-on-default-background), var(--sklearn-color-text-on-default-background));\n",
              "  background-size: 2px 100%;\n",
              "  background-repeat: no-repeat;\n",
              "  background-position: center center;\n",
              "}\n",
              "\n",
              "/* Parallel-specific style estimator block */\n",
              "\n",
              "#sk-container-id-1 div.sk-parallel-item::after {\n",
              "  content: \"\";\n",
              "  width: 100%;\n",
              "  border-bottom: 2px solid var(--sklearn-color-text-on-default-background);\n",
              "  flex-grow: 1;\n",
              "}\n",
              "\n",
              "#sk-container-id-1 div.sk-parallel {\n",
              "  display: flex;\n",
              "  align-items: stretch;\n",
              "  justify-content: center;\n",
              "  background-color: var(--sklearn-color-background);\n",
              "  position: relative;\n",
              "}\n",
              "\n",
              "#sk-container-id-1 div.sk-parallel-item {\n",
              "  display: flex;\n",
              "  flex-direction: column;\n",
              "}\n",
              "\n",
              "#sk-container-id-1 div.sk-parallel-item:first-child::after {\n",
              "  align-self: flex-end;\n",
              "  width: 50%;\n",
              "}\n",
              "\n",
              "#sk-container-id-1 div.sk-parallel-item:last-child::after {\n",
              "  align-self: flex-start;\n",
              "  width: 50%;\n",
              "}\n",
              "\n",
              "#sk-container-id-1 div.sk-parallel-item:only-child::after {\n",
              "  width: 0;\n",
              "}\n",
              "\n",
              "/* Serial-specific style estimator block */\n",
              "\n",
              "#sk-container-id-1 div.sk-serial {\n",
              "  display: flex;\n",
              "  flex-direction: column;\n",
              "  align-items: center;\n",
              "  background-color: var(--sklearn-color-background);\n",
              "  padding-right: 1em;\n",
              "  padding-left: 1em;\n",
              "}\n",
              "\n",
              "\n",
              "/* Toggleable style: style used for estimator/Pipeline/ColumnTransformer box that is\n",
              "clickable and can be expanded/collapsed.\n",
              "- Pipeline and ColumnTransformer use this feature and define the default style\n",
              "- Estimators will overwrite some part of the style using the `sk-estimator` class\n",
              "*/\n",
              "\n",
              "/* Pipeline and ColumnTransformer style (default) */\n",
              "\n",
              "#sk-container-id-1 div.sk-toggleable {\n",
              "  /* Default theme specific background. It is overwritten whether we have a\n",
              "  specific estimator or a Pipeline/ColumnTransformer */\n",
              "  background-color: var(--sklearn-color-background);\n",
              "}\n",
              "\n",
              "/* Toggleable label */\n",
              "#sk-container-id-1 label.sk-toggleable__label {\n",
              "  cursor: pointer;\n",
              "  display: block;\n",
              "  width: 100%;\n",
              "  margin-bottom: 0;\n",
              "  padding: 0.5em;\n",
              "  box-sizing: border-box;\n",
              "  text-align: center;\n",
              "}\n",
              "\n",
              "#sk-container-id-1 label.sk-toggleable__label-arrow:before {\n",
              "  /* Arrow on the left of the label */\n",
              "  content: \"▸\";\n",
              "  float: left;\n",
              "  margin-right: 0.25em;\n",
              "  color: var(--sklearn-color-icon);\n",
              "}\n",
              "\n",
              "#sk-container-id-1 label.sk-toggleable__label-arrow:hover:before {\n",
              "  color: var(--sklearn-color-text);\n",
              "}\n",
              "\n",
              "/* Toggleable content - dropdown */\n",
              "\n",
              "#sk-container-id-1 div.sk-toggleable__content {\n",
              "  max-height: 0;\n",
              "  max-width: 0;\n",
              "  overflow: hidden;\n",
              "  text-align: left;\n",
              "  /* unfitted */\n",
              "  background-color: var(--sklearn-color-unfitted-level-0);\n",
              "}\n",
              "\n",
              "#sk-container-id-1 div.sk-toggleable__content.fitted {\n",
              "  /* fitted */\n",
              "  background-color: var(--sklearn-color-fitted-level-0);\n",
              "}\n",
              "\n",
              "#sk-container-id-1 div.sk-toggleable__content pre {\n",
              "  margin: 0.2em;\n",
              "  border-radius: 0.25em;\n",
              "  color: var(--sklearn-color-text);\n",
              "  /* unfitted */\n",
              "  background-color: var(--sklearn-color-unfitted-level-0);\n",
              "}\n",
              "\n",
              "#sk-container-id-1 div.sk-toggleable__content.fitted pre {\n",
              "  /* unfitted */\n",
              "  background-color: var(--sklearn-color-fitted-level-0);\n",
              "}\n",
              "\n",
              "#sk-container-id-1 input.sk-toggleable__control:checked~div.sk-toggleable__content {\n",
              "  /* Expand drop-down */\n",
              "  max-height: 200px;\n",
              "  max-width: 100%;\n",
              "  overflow: auto;\n",
              "}\n",
              "\n",
              "#sk-container-id-1 input.sk-toggleable__control:checked~label.sk-toggleable__label-arrow:before {\n",
              "  content: \"▾\";\n",
              "}\n",
              "\n",
              "/* Pipeline/ColumnTransformer-specific style */\n",
              "\n",
              "#sk-container-id-1 div.sk-label input.sk-toggleable__control:checked~label.sk-toggleable__label {\n",
              "  color: var(--sklearn-color-text);\n",
              "  background-color: var(--sklearn-color-unfitted-level-2);\n",
              "}\n",
              "\n",
              "#sk-container-id-1 div.sk-label.fitted input.sk-toggleable__control:checked~label.sk-toggleable__label {\n",
              "  background-color: var(--sklearn-color-fitted-level-2);\n",
              "}\n",
              "\n",
              "/* Estimator-specific style */\n",
              "\n",
              "/* Colorize estimator box */\n",
              "#sk-container-id-1 div.sk-estimator input.sk-toggleable__control:checked~label.sk-toggleable__label {\n",
              "  /* unfitted */\n",
              "  background-color: var(--sklearn-color-unfitted-level-2);\n",
              "}\n",
              "\n",
              "#sk-container-id-1 div.sk-estimator.fitted input.sk-toggleable__control:checked~label.sk-toggleable__label {\n",
              "  /* fitted */\n",
              "  background-color: var(--sklearn-color-fitted-level-2);\n",
              "}\n",
              "\n",
              "#sk-container-id-1 div.sk-label label.sk-toggleable__label,\n",
              "#sk-container-id-1 div.sk-label label {\n",
              "  /* The background is the default theme color */\n",
              "  color: var(--sklearn-color-text-on-default-background);\n",
              "}\n",
              "\n",
              "/* On hover, darken the color of the background */\n",
              "#sk-container-id-1 div.sk-label:hover label.sk-toggleable__label {\n",
              "  color: var(--sklearn-color-text);\n",
              "  background-color: var(--sklearn-color-unfitted-level-2);\n",
              "}\n",
              "\n",
              "/* Label box, darken color on hover, fitted */\n",
              "#sk-container-id-1 div.sk-label.fitted:hover label.sk-toggleable__label.fitted {\n",
              "  color: var(--sklearn-color-text);\n",
              "  background-color: var(--sklearn-color-fitted-level-2);\n",
              "}\n",
              "\n",
              "/* Estimator label */\n",
              "\n",
              "#sk-container-id-1 div.sk-label label {\n",
              "  font-family: monospace;\n",
              "  font-weight: bold;\n",
              "  display: inline-block;\n",
              "  line-height: 1.2em;\n",
              "}\n",
              "\n",
              "#sk-container-id-1 div.sk-label-container {\n",
              "  text-align: center;\n",
              "}\n",
              "\n",
              "/* Estimator-specific */\n",
              "#sk-container-id-1 div.sk-estimator {\n",
              "  font-family: monospace;\n",
              "  border: 1px dotted var(--sklearn-color-border-box);\n",
              "  border-radius: 0.25em;\n",
              "  box-sizing: border-box;\n",
              "  margin-bottom: 0.5em;\n",
              "  /* unfitted */\n",
              "  background-color: var(--sklearn-color-unfitted-level-0);\n",
              "}\n",
              "\n",
              "#sk-container-id-1 div.sk-estimator.fitted {\n",
              "  /* fitted */\n",
              "  background-color: var(--sklearn-color-fitted-level-0);\n",
              "}\n",
              "\n",
              "/* on hover */\n",
              "#sk-container-id-1 div.sk-estimator:hover {\n",
              "  /* unfitted */\n",
              "  background-color: var(--sklearn-color-unfitted-level-2);\n",
              "}\n",
              "\n",
              "#sk-container-id-1 div.sk-estimator.fitted:hover {\n",
              "  /* fitted */\n",
              "  background-color: var(--sklearn-color-fitted-level-2);\n",
              "}\n",
              "\n",
              "/* Specification for estimator info (e.g. \"i\" and \"?\") */\n",
              "\n",
              "/* Common style for \"i\" and \"?\" */\n",
              "\n",
              ".sk-estimator-doc-link,\n",
              "a:link.sk-estimator-doc-link,\n",
              "a:visited.sk-estimator-doc-link {\n",
              "  float: right;\n",
              "  font-size: smaller;\n",
              "  line-height: 1em;\n",
              "  font-family: monospace;\n",
              "  background-color: var(--sklearn-color-background);\n",
              "  border-radius: 1em;\n",
              "  height: 1em;\n",
              "  width: 1em;\n",
              "  text-decoration: none !important;\n",
              "  margin-left: 1ex;\n",
              "  /* unfitted */\n",
              "  border: var(--sklearn-color-unfitted-level-1) 1pt solid;\n",
              "  color: var(--sklearn-color-unfitted-level-1);\n",
              "}\n",
              "\n",
              ".sk-estimator-doc-link.fitted,\n",
              "a:link.sk-estimator-doc-link.fitted,\n",
              "a:visited.sk-estimator-doc-link.fitted {\n",
              "  /* fitted */\n",
              "  border: var(--sklearn-color-fitted-level-1) 1pt solid;\n",
              "  color: var(--sklearn-color-fitted-level-1);\n",
              "}\n",
              "\n",
              "/* On hover */\n",
              "div.sk-estimator:hover .sk-estimator-doc-link:hover,\n",
              ".sk-estimator-doc-link:hover,\n",
              "div.sk-label-container:hover .sk-estimator-doc-link:hover,\n",
              ".sk-estimator-doc-link:hover {\n",
              "  /* unfitted */\n",
              "  background-color: var(--sklearn-color-unfitted-level-3);\n",
              "  color: var(--sklearn-color-background);\n",
              "  text-decoration: none;\n",
              "}\n",
              "\n",
              "div.sk-estimator.fitted:hover .sk-estimator-doc-link.fitted:hover,\n",
              ".sk-estimator-doc-link.fitted:hover,\n",
              "div.sk-label-container:hover .sk-estimator-doc-link.fitted:hover,\n",
              ".sk-estimator-doc-link.fitted:hover {\n",
              "  /* fitted */\n",
              "  background-color: var(--sklearn-color-fitted-level-3);\n",
              "  color: var(--sklearn-color-background);\n",
              "  text-decoration: none;\n",
              "}\n",
              "\n",
              "/* Span, style for the box shown on hovering the info icon */\n",
              ".sk-estimator-doc-link span {\n",
              "  display: none;\n",
              "  z-index: 9999;\n",
              "  position: relative;\n",
              "  font-weight: normal;\n",
              "  right: .2ex;\n",
              "  padding: .5ex;\n",
              "  margin: .5ex;\n",
              "  width: min-content;\n",
              "  min-width: 20ex;\n",
              "  max-width: 50ex;\n",
              "  color: var(--sklearn-color-text);\n",
              "  box-shadow: 2pt 2pt 4pt #999;\n",
              "  /* unfitted */\n",
              "  background: var(--sklearn-color-unfitted-level-0);\n",
              "  border: .5pt solid var(--sklearn-color-unfitted-level-3);\n",
              "}\n",
              "\n",
              ".sk-estimator-doc-link.fitted span {\n",
              "  /* fitted */\n",
              "  background: var(--sklearn-color-fitted-level-0);\n",
              "  border: var(--sklearn-color-fitted-level-3);\n",
              "}\n",
              "\n",
              ".sk-estimator-doc-link:hover span {\n",
              "  display: block;\n",
              "}\n",
              "\n",
              "/* \"?\"-specific style due to the `<a>` HTML tag */\n",
              "\n",
              "#sk-container-id-1 a.estimator_doc_link {\n",
              "  float: right;\n",
              "  font-size: 1rem;\n",
              "  line-height: 1em;\n",
              "  font-family: monospace;\n",
              "  background-color: var(--sklearn-color-background);\n",
              "  border-radius: 1rem;\n",
              "  height: 1rem;\n",
              "  width: 1rem;\n",
              "  text-decoration: none;\n",
              "  /* unfitted */\n",
              "  color: var(--sklearn-color-unfitted-level-1);\n",
              "  border: var(--sklearn-color-unfitted-level-1) 1pt solid;\n",
              "}\n",
              "\n",
              "#sk-container-id-1 a.estimator_doc_link.fitted {\n",
              "  /* fitted */\n",
              "  border: var(--sklearn-color-fitted-level-1) 1pt solid;\n",
              "  color: var(--sklearn-color-fitted-level-1);\n",
              "}\n",
              "\n",
              "/* On hover */\n",
              "#sk-container-id-1 a.estimator_doc_link:hover {\n",
              "  /* unfitted */\n",
              "  background-color: var(--sklearn-color-unfitted-level-3);\n",
              "  color: var(--sklearn-color-background);\n",
              "  text-decoration: none;\n",
              "}\n",
              "\n",
              "#sk-container-id-1 a.estimator_doc_link.fitted:hover {\n",
              "  /* fitted */\n",
              "  background-color: var(--sklearn-color-fitted-level-3);\n",
              "}\n",
              "</style><div id=\"sk-container-id-1\" class=\"sk-top-container\"><div class=\"sk-text-repr-fallback\"><pre>Lasso(alpha=0.001)</pre><b>In a Jupyter environment, please rerun this cell to show the HTML representation or trust the notebook. <br />On GitHub, the HTML representation is unable to render, please try loading this page with nbviewer.org.</b></div><div class=\"sk-container\" hidden><div class=\"sk-item\"><div class=\"sk-estimator fitted sk-toggleable\"><input class=\"sk-toggleable__control sk-hidden--visually\" id=\"sk-estimator-id-1\" type=\"checkbox\" checked><label for=\"sk-estimator-id-1\" class=\"sk-toggleable__label fitted sk-toggleable__label-arrow fitted\">&nbsp;&nbsp;Lasso<a class=\"sk-estimator-doc-link fitted\" rel=\"noreferrer\" target=\"_blank\" href=\"https://scikit-learn.org/1.5/modules/generated/sklearn.linear_model.Lasso.html\">?<span>Documentation for Lasso</span></a><span class=\"sk-estimator-doc-link fitted\">i<span>Fitted</span></span></label><div class=\"sk-toggleable__content fitted\"><pre>Lasso(alpha=0.001)</pre></div> </div></div></div></div>"
            ]
          },
          "metadata": {},
          "execution_count": 18
        }
      ]
    },
    {
      "cell_type": "code",
      "source": [
        "train_score = lr.score(x_train,y_train)\n",
        "test_score = lr.score(x_test,y_test)\n",
        "coeff_used = np.sum(lr.coef_!=0)\n",
        "\n",
        "print(\"training score for alpha=0.001\",train_score)\n",
        "print(\"test score for alpha=0.001\",test_score)\n",
        "print(\"number of features used:\",coeff_used)"
      ],
      "metadata": {
        "id": "CwZMaUt--EZ2",
        "colab": {
          "base_uri": "https://localhost:8080/"
        },
        "outputId": "fa3f3634-5a3b-40b8-da9d-8e56173a486c"
      },
      "execution_count": 19,
      "outputs": [
        {
          "output_type": "stream",
          "name": "stdout",
          "text": [
            "training score for alpha=0.001 0.7468595499731014\n",
            "test score for alpha=0.001 0.7130806184258107\n",
            "number of features used: 13\n"
          ]
        }
      ]
    },
    {
      "cell_type": "code",
      "source": [
        "from sklearn.linear_model import Lasso\n",
        "from sklearn.model_selection import train_test_split\n",
        "import matplotlib.pyplot as plt\n",
        "from sklearn.preprocessing import StandardScaler\n",
        "import pandas as pd\n",
        "\n",
        "data_url = \"http://lib.stat.cmu.edu/datasets/boston\"\n",
        "raw_df = pd.read_csv(data_url, sep=\"\\s+\", skiprows=22, header=None)\n",
        "data = np.hstack([raw_df.values[::2, :], raw_df.values[1::2, :2]])\n",
        "target = raw_df.values[1::2, 2]\n",
        "import numpy as np\n",
        "\n",
        "# 加載波士頓房價數據集\n",
        "\n",
        "x = data  # 13個特徵的數據\n",
        "y = target  # 房價數據\n",
        "\n",
        "# 將數據集分成訓練集和測試集\n",
        "x_train, x_test, y_train, y_test = train_test_split(x, y, test_size=0.3, random_state=83)\n",
        "\n",
        "# 對特徵進行標準化\n",
        "std_tool = StandardScaler()\n",
        "x_train = std_tool.fit_transform(x_train)  # 將訓練數據標準化\n",
        "x_test = std_tool.transform(x_test)  # 將測試數據標準化\n",
        "\n",
        "# 使用Lasso迴歸模型\n",
        "alpha = 0.01  # 正規化參數\n",
        "lasso = Lasso(alpha=alpha)\n",
        "lasso.fit(x_train, y_train)  # 將資料拿去訓練\n",
        "\n",
        "# 預測測試集\n",
        "y_predict = lasso.predict(x_test)  # 用訓練出來的模型去預測\n",
        "\n",
        "# 繪製預測結果\n",
        "plt.xlabel(\"Actual price\")  # x軸的標題\n",
        "plt.ylabel(\"Predicted price\")  # y軸的標題\n",
        "plt.plot([0, 50], [0, 50], color='red', linestyle='--')  # 劃一條基準線\n",
        "plt.scatter(y_test, y_predict)  # 比對預測跟實際的差別\n",
        "plt.show()  # 察看結果\n",
        "\n",
        "# 計算模型的R²\n",
        "r_squared = lasso.score(x_test, y_test)\n",
        "score_2=lnregr.score(x_train, y_train) #訓練模型的正確率\n",
        "print(\"模型準確率:\", score_2)\n",
        "print(\"R-squared:\", r_squared)\n",
        "print(\"Lasso 預測結果:\", y_predict)\n",
        "\n",
        "\n"
      ],
      "metadata": {
        "id": "760XbY2PBv9r",
        "colab": {
          "base_uri": "https://localhost:8080/",
          "height": 949
        },
        "outputId": "6854bc53-8514-43fb-d9ac-691bcf32bf9e"
      },
      "execution_count": 20,
      "outputs": [
        {
          "output_type": "display_data",
          "data": {
            "text/plain": [
              "<Figure size 640x480 with 1 Axes>"
            ],
            "image/png": "[encoded data removed]"
          },
          "metadata": {}
        },
        {
          "output_type": "stream",
          "name": "stdout",
          "text": [
            "模型準確率: 0.7468604695691605\n",
            "R-squared: 0.7146188507880482\n",
            "Lasso 預測結果: [14.6385543  41.7053676  23.77560254 24.96856138 30.49697994 36.6681519\n",
            " 16.14133828 20.19558387 29.71270034 30.20868226 25.60706515 38.54070729\n",
            " 18.06709746 30.04819567 27.18190733 13.42887328 38.05010436 35.25277763\n",
            " 19.35313413 21.09999775 23.92132763 18.31677436 16.97231772 16.33469164\n",
            " 27.37306949 21.87147401 24.58604588 20.12131378 17.05380246 28.77292118\n",
            " 23.16471153 20.08665687 17.45483959 30.6948619  28.7663403  25.35520453\n",
            " 16.25815517 11.2947435  13.81509192 15.28540527 17.2475188  13.9151723\n",
            " 21.69694933 16.01040641 20.53552312 16.88533932 33.12719377 24.00783668\n",
            " 25.46649664 30.89888446  9.93041989 -4.78212272 27.50310932 23.05756179\n",
            " 22.95338262 21.31450538 41.04542949 39.18731379  6.72949669 20.360255\n",
            " 16.03220452 33.91142119 30.49616151 35.81027284 15.18496786 24.97271057\n",
            "  7.79796701 37.04276044 16.57268976 27.03391916 18.11486817 26.0089508\n",
            " 21.73780236 18.68127111 31.79505787 27.00757747 19.30480727 20.34281416\n",
            " 14.08663363 21.37456653 30.41928573 35.99869282 21.52464631 22.68378914\n",
            " 29.87398093 33.27916675 22.39635668 19.9346019  28.26768842 11.70011899\n",
            " 32.73190574 24.27384549 37.9616333  12.97946377 17.00498755 18.75989213\n",
            " 19.99398049 29.98030055 20.37218723 31.78564375 31.13981756 20.34526976\n",
            "  8.61953723 35.20580957 22.47807225 40.49533574 28.65413035  9.95641841\n",
            " 34.15377885  3.39505368 13.31678395 17.20371433 20.28255815 18.85231451\n",
            " 30.51607911 16.29948454 24.88995994 34.37122559 19.6278139  29.13227669\n",
            " 22.69872435 30.31888752 20.92664504 28.48970087 36.67305219 11.73022797\n",
            " 24.32766419  8.38188085 19.663066   39.21626803 23.32940292 24.55726588\n",
            " 18.08835555 16.84236165 31.35206251 28.19113933 19.69191373 22.54960621\n",
            " 23.91630853 23.20058325 27.55441221 27.31886138 21.12134439 25.40224744\n",
            " 14.55864695 20.6716514  15.16024839 20.84151333 22.09234325 18.93891942\n",
            " 27.52048725 24.39961001]\n"
          ]
        }
      ]
    },
    {
      "cell_type": "markdown",
      "source": [
        "L2正則項(Ridge)\n"
      ],
      "metadata": {
        "id": "MpM3qlN_ewaR"
      }
    },
    {
      "cell_type": "code",
      "source": [
        "from sklearn.linear_model import Ridge\n",
        "\n",
        "# 使用Ridge迴歸模型\n",
        "alpha=0.01\n",
        "ridge = Ridge(alpha=alpha)\n",
        "ridge.fit(x_train, y_train)  # 將資料拿去訓練\n",
        "\n",
        "# 預測測試集\n",
        "y_predict_ridge = ridge.predict(x_test)  # 用訓練出來的模型去預測\n",
        "\n",
        "# 繪製預測結果\n",
        "plt.xlabel(\"Actual price\")  # x軸的標題\n",
        "plt.ylabel(\"Predicted price\")  # y軸的標題\n",
        "plt.plot([0, 50], [0, 50], color='red', linestyle='--')  # 劃一條基準線\n",
        "plt.scatter(y_test, y_predict_ridge)  # 比對預測跟實際的差別\n",
        "plt.show()  # 察看結果\n",
        "\n",
        "# 計算模型的R²\n",
        "r_squared_ridge = ridge.score(x_test, y_test)\n",
        "score=lnregr.score(x_train, y_train) #訓練模型的正確率\n",
        "print(\"模型準確率:\", score)\n",
        "print(\"R-squared (Ridge):\", r_squared_ridge)\n",
        "print(\"Ridge 預測結果:\", y_predict)\n"
      ],
      "metadata": {
        "id": "6gDKu5Gle820",
        "colab": {
          "base_uri": "https://localhost:8080/",
          "height": 949
        },
        "outputId": "0caf5928-6135-4802-ba0a-748561ca51a7"
      },
      "execution_count": 21,
      "outputs": [
        {
          "output_type": "display_data",
          "data": {
            "text/plain": [
              "<Figure size 640x480 with 1 Axes>"
            ],
            "image/png": "[encoded data removed]"
          },
          "metadata": {}
        },
        {
          "output_type": "stream",
          "name": "stdout",
          "text": [
            "模型準確率: 0.7468604695691605\n",
            "R-squared (Ridge): 0.7129105312903974\n",
            "Ridge 預測結果: [14.6385543  41.7053676  23.77560254 24.96856138 30.49697994 36.6681519\n",
            " 16.14133828 20.19558387 29.71270034 30.20868226 25.60706515 38.54070729\n",
            " 18.06709746 30.04819567 27.18190733 13.42887328 38.05010436 35.25277763\n",
            " 19.35313413 21.09999775 23.92132763 18.31677436 16.97231772 16.33469164\n",
            " 27.37306949 21.87147401 24.58604588 20.12131378 17.05380246 28.77292118\n",
            " 23.16471153 20.08665687 17.45483959 30.6948619  28.7663403  25.35520453\n",
            " 16.25815517 11.2947435  13.81509192 15.28540527 17.2475188  13.9151723\n",
            " 21.69694933 16.01040641 20.53552312 16.88533932 33.12719377 24.00783668\n",
            " 25.46649664 30.89888446  9.93041989 -4.78212272 27.50310932 23.05756179\n",
            " 22.95338262 21.31450538 41.04542949 39.18731379  6.72949669 20.360255\n",
            " 16.03220452 33.91142119 30.49616151 35.81027284 15.18496786 24.97271057\n",
            "  7.79796701 37.04276044 16.57268976 27.03391916 18.11486817 26.0089508\n",
            " 21.73780236 18.68127111 31.79505787 27.00757747 19.30480727 20.34281416\n",
            " 14.08663363 21.37456653 30.41928573 35.99869282 21.52464631 22.68378914\n",
            " 29.87398093 33.27916675 22.39635668 19.9346019  28.26768842 11.70011899\n",
            " 32.73190574 24.27384549 37.9616333  12.97946377 17.00498755 18.75989213\n",
            " 19.99398049 29.98030055 20.37218723 31.78564375 31.13981756 20.34526976\n",
            "  8.61953723 35.20580957 22.47807225 40.49533574 28.65413035  9.95641841\n",
            " 34.15377885  3.39505368 13.31678395 17.20371433 20.28255815 18.85231451\n",
            " 30.51607911 16.29948454 24.88995994 34.37122559 19.6278139  29.13227669\n",
            " 22.69872435 30.31888752 20.92664504 28.48970087 36.67305219 11.73022797\n",
            " 24.32766419  8.38188085 19.663066   39.21626803 23.32940292 24.55726588\n",
            " 18.08835555 16.84236165 31.35206251 28.19113933 19.69191373 22.54960621\n",
            " 23.91630853 23.20058325 27.55441221 27.31886138 21.12134439 25.40224744\n",
            " 14.55864695 20.6716514  15.16024839 20.84151333 22.09234325 18.93891942\n",
            " 27.52048725 24.39961001]\n"
          ]
        }
      ]
    }
  ]
}